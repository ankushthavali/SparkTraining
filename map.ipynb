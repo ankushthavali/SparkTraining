{
 "cells": [
  {
   "cell_type": "code",
   "execution_count": 36,
   "id": "35750c9f",
   "metadata": {},
   "outputs": [],
   "source": [
    "import findspark\n",
    "findspark.init()\n"
   ]
  },
  {
   "cell_type": "code",
   "execution_count": 37,
   "id": "88a271d6",
   "metadata": {},
   "outputs": [],
   "source": [
    "import pyspark\n",
    "from pyspark.sql import SparkSession\n",
    "from pyspark.sql import SparkSession\n",
    "from pyspark.sql.functions import col, lit, udf"
   ]
  },
  {
   "cell_type": "code",
   "execution_count": 38,
   "id": "e8a78f02",
   "metadata": {},
   "outputs": [],
   "source": [
    "spark = SparkSession.builder.master(\"local[2]\") \\\n",
    "    .appName('learnomate.org') \\\n",
    "    .master(\"local[5]\") \\\n",
    "    .getOrCreate()"
   ]
  },
  {
   "cell_type": "code",
   "execution_count": 39,
   "id": "4130022f",
   "metadata": {},
   "outputs": [],
   "source": [
    "readData = spark.read.format(\"csv\").option(\"header\",'True').csv(\"empdata.csv\")"
   ]
  },
  {
   "cell_type": "code",
   "execution_count": 40,
   "id": "85ea0d71",
   "metadata": {},
   "outputs": [
    {
     "name": "stdout",
     "output_type": "stream",
     "text": [
      "+---+----------+----------+--------------------+-----------+---------------+\n",
      "| id|first_name| last_name|               email|     gender|     ip_address|\n",
      "+---+----------+----------+--------------------+-----------+---------------+\n",
      "|  1|    Gussie|   Whitton|gwhitton0@delicio...|       Male|  63.183.245.48|\n",
      "|  2|    Mureil|  Langwade|mlangwade1@jiathi...|       Male| 182.162.144.24|\n",
      "|  3|     Kimmi|   Crittal|kcrittal2@mapques...| Non-binary|  192.84.219.67|\n",
      "|  4|    Hallsy|  Maffucci|hmaffucci3@cisco.com|     Female|  77.121.185.83|\n",
      "|  5|  Terrance|  Petrovic|tpetrovic4@hostga...|Genderqueer|108.243.213.126|\n",
      "|  6|     Becca|   Phlipon|bphlipon5@guardia...|Genderfluid| 145.243.179.86|\n",
      "|  7|   Garreth|   Muckloe|gmuckloe6@auda.or...|       Male| 80.163.126.227|\n",
      "|  8|     Faith|  Schellig|fschellig7@theglo...|       Male|  243.200.61.77|\n",
      "|  9|       Ema|     Skypp|eskypp8@wikispace...| Polygender|  108.36.30.155|\n",
      "| 10|      Deck|  Peerless|dpeerless9@weathe...|    Agender|   40.133.77.27|\n",
      "| 11|      Obed|     Deery|odeerya@hugedomai...|Genderfluid|  203.59.28.125|\n",
      "| 12|   Redford|    Dancer| rdancerb@sfgate.com|Genderfluid|  101.188.74.22|\n",
      "| 13|     Hubey|    Chable|       hchablec@g.co| Polygender| 215.179.175.54|\n",
      "| 14|    Leeann|     Crain|lcraind@parallels...| Non-binary|  3.200.129.139|\n",
      "| 15|      Myra| Greaterex| mgreaterexe@nih.gov|   Bigender|   44.153.35.92|\n",
      "| 16|      Jean|   Gostage|jgostagef@dion.ne.jp| Polygender| 103.185.81.221|\n",
      "| 17|    Delano|  Neubigin|  dneubiging@cnn.com|Genderfluid|   88.17.84.232|\n",
      "| 18|     Erica|   Leather| eleatherh@weibo.com|       Male|    39.72.69.19|\n",
      "| 19|      Gail|MacIlwrick|gmacilwricki@hist...|Genderfluid| 133.250.123.37|\n",
      "| 20|      Ravi|  Le Cornu|rlecornuj@cbsnews...| Non-binary| 99.171.144.227|\n",
      "+---+----------+----------+--------------------+-----------+---------------+\n",
      "only showing top 20 rows\n",
      "\n"
     ]
    }
   ],
   "source": [
    "readData.show()"
   ]
  },
  {
   "cell_type": "code",
   "execution_count": 41,
   "id": "9d4f3af9",
   "metadata": {},
   "outputs": [],
   "source": [
    "rdd = readData.rdd.map(lambda x:(x[0],x[1]+\",\"+x[2],x[3],x[4],x[5]))"
   ]
  },
  {
   "cell_type": "code",
   "execution_count": 44,
   "id": "352b8960",
   "metadata": {},
   "outputs": [],
   "source": [
    "column = ['id','name','email','gender','ip_address']"
   ]
  },
  {
   "cell_type": "code",
   "execution_count": 45,
   "id": "f295819a",
   "metadata": {},
   "outputs": [],
   "source": [
    "df = rdd.toDF(column)"
   ]
  },
  {
   "cell_type": "code",
   "execution_count": 46,
   "id": "0423d134",
   "metadata": {},
   "outputs": [
    {
     "name": "stdout",
     "output_type": "stream",
     "text": [
      "+---+-----------------+--------------------+-----------+---------------+\n",
      "| id|             name|               email|     gender|     ip_address|\n",
      "+---+-----------------+--------------------+-----------+---------------+\n",
      "|  1|   Gussie,Whitton|gwhitton0@delicio...|       Male|  63.183.245.48|\n",
      "|  2|  Mureil,Langwade|mlangwade1@jiathi...|       Male| 182.162.144.24|\n",
      "|  3|    Kimmi,Crittal|kcrittal2@mapques...| Non-binary|  192.84.219.67|\n",
      "|  4|  Hallsy,Maffucci|hmaffucci3@cisco.com|     Female|  77.121.185.83|\n",
      "|  5|Terrance,Petrovic|tpetrovic4@hostga...|Genderqueer|108.243.213.126|\n",
      "|  6|    Becca,Phlipon|bphlipon5@guardia...|Genderfluid| 145.243.179.86|\n",
      "|  7|  Garreth,Muckloe|gmuckloe6@auda.or...|       Male| 80.163.126.227|\n",
      "|  8|   Faith,Schellig|fschellig7@theglo...|       Male|  243.200.61.77|\n",
      "|  9|        Ema,Skypp|eskypp8@wikispace...| Polygender|  108.36.30.155|\n",
      "| 10|    Deck,Peerless|dpeerless9@weathe...|    Agender|   40.133.77.27|\n",
      "| 11|       Obed,Deery|odeerya@hugedomai...|Genderfluid|  203.59.28.125|\n",
      "| 12|   Redford,Dancer| rdancerb@sfgate.com|Genderfluid|  101.188.74.22|\n",
      "| 13|     Hubey,Chable|       hchablec@g.co| Polygender| 215.179.175.54|\n",
      "| 14|     Leeann,Crain|lcraind@parallels...| Non-binary|  3.200.129.139|\n",
      "| 15|   Myra,Greaterex| mgreaterexe@nih.gov|   Bigender|   44.153.35.92|\n",
      "| 16|     Jean,Gostage|jgostagef@dion.ne.jp| Polygender| 103.185.81.221|\n",
      "| 17|  Delano,Neubigin|  dneubiging@cnn.com|Genderfluid|   88.17.84.232|\n",
      "| 18|    Erica,Leather| eleatherh@weibo.com|       Male|    39.72.69.19|\n",
      "| 19|  Gail,MacIlwrick|gmacilwricki@hist...|Genderfluid| 133.250.123.37|\n",
      "| 20|    Ravi,Le Cornu|rlecornuj@cbsnews...| Non-binary| 99.171.144.227|\n",
      "+---+-----------------+--------------------+-----------+---------------+\n",
      "only showing top 20 rows\n",
      "\n"
     ]
    }
   ],
   "source": [
    "df.show()"
   ]
  },
  {
   "cell_type": "code",
   "execution_count": null,
   "id": "28ed02fa",
   "metadata": {},
   "outputs": [],
   "source": []
  }
 ],
 "metadata": {
  "kernelspec": {
   "display_name": "Python 3 (ipykernel)",
   "language": "python",
   "name": "python3"
  },
  "language_info": {
   "codemirror_mode": {
    "name": "ipython",
    "version": 3
   },
   "file_extension": ".py",
   "mimetype": "text/x-python",
   "name": "python",
   "nbconvert_exporter": "python",
   "pygments_lexer": "ipython3",
   "version": "3.8.8"
  },
  "widgets": {
   "application/vnd.jupyter.widget-state+json": {
    "state": {},
    "version_major": 2,
    "version_minor": 0
   }
  }
 },
 "nbformat": 4,
 "nbformat_minor": 5
}
