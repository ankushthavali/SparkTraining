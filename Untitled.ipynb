{
 "cells": [
  {
   "cell_type": "code",
   "execution_count": 5,
   "id": "35750c9f",
   "metadata": {},
   "outputs": [],
   "source": [
    "import findspark\n",
    "findspark.init()\n"
   ]
  },
  {
   "cell_type": "code",
   "execution_count": 12,
   "id": "88a271d6",
   "metadata": {},
   "outputs": [],
   "source": [
    "import pyspark\n",
    "from pyspark.sql import SparkSession\n",
    "from pyspark.sql import SparkSession\n",
    "from pyspark.sql.functions import col, lit, udf"
   ]
  },
  {
   "cell_type": "code",
   "execution_count": 14,
   "id": "e8a78f02",
   "metadata": {},
   "outputs": [],
   "source": [
    "spark = SparkSession.builder.master(\"local[1]\") \\\n",
    "    .appName('learnomate.org') \\\n",
    "    .getOrCreate()"
   ]
  },
  {
   "cell_type": "code",
   "execution_count": 16,
   "id": "4130022f",
   "metadata": {},
   "outputs": [],
   "source": [
    "readData = spark.read.csv(\"E:\\Hadoop_Training_Docs\\world_country_and_usa_states_latitude_and_longitude_values.csv\")"
   ]
  },
  {
   "cell_type": "code",
   "execution_count": 17,
   "id": "9d4f3af9",
   "metadata": {},
   "outputs": [
    {
     "name": "stdout",
     "output_type": "stream",
     "text": [
      "+------------+----------+-----------+--------------------+--------------+------------------+-------------------+--------------------+\n",
      "|         _c0|       _c1|        _c2|                 _c3|           _c4|               _c5|                _c6|                 _c7|\n",
      "+------------+----------+-----------+--------------------+--------------+------------------+-------------------+--------------------+\n",
      "|country_code|  latitude|  longitude|             country|usa_state_code|usa_state_latitude|usa_state_longitude|           usa_state|\n",
      "|          AD| 42.546245|   1.601554|             Andorra|            AK|         63.588753|        -154.493062|              Alaska|\n",
      "|          AE| 23.424076|  53.847818|United Arab Emirates|            AL|         32.318231|         -86.902298|             Alabama|\n",
      "|          AF|  33.93911|  67.709953|         Afghanistan|            AR|          35.20105|         -91.831833|            Arkansas|\n",
      "|          AG| 17.060816| -61.796428| Antigua and Barbuda|            AZ|         34.048928|        -111.093731|             Arizona|\n",
      "|          AI| 18.220554| -63.068615|            Anguilla|            CA|         36.778261|        -119.417932|          California|\n",
      "|          AL| 41.153332|  20.168331|             Albania|            CO|         39.550051|        -105.782067|            Colorado|\n",
      "|          AM| 40.069099|  45.038189|             Armenia|            CT|         41.603221|         -73.087749|         Connecticut|\n",
      "|          AN| 12.226079| -69.060087|Netherlands Antilles|            DC|         38.905985|         -77.033418|District of Columbia|\n",
      "|          AO|-11.202692|  17.873887|              Angola|            DE|         38.910832|          -75.52767|            Delaware|\n",
      "|          AQ|-75.250973|  -0.071389|          Antarctica|            FL|         27.664827|         -81.515754|             Florida|\n",
      "|          AR|-38.416097| -63.616672|           Argentina|            GA|         32.157435|         -82.907123|             Georgia|\n",
      "|          AS|-14.270972|-170.132217|      American Samoa|            HI|         19.898682|        -155.665857|              Hawaii|\n",
      "|          AT| 47.516231|  14.550072|             Austria|            IA|         41.878003|         -93.097702|                Iowa|\n",
      "|          AU|-25.274398| 133.775136|           Australia|            ID|         44.068202|        -114.742041|               Idaho|\n",
      "|          AW|  12.52111| -69.968338|               Aruba|            IL|         40.633125|         -89.398528|            Illinois|\n",
      "|          AZ| 40.143105|  47.576927|          Azerbaijan|            IN|         40.551217|         -85.602364|             Indiana|\n",
      "|          BA| 43.915886|  17.679076|Bosnia and Herzeg...|            KS|         39.011902|         -98.484246|              Kansas|\n",
      "|          BB| 13.193887| -59.543198|            Barbados|            KY|         37.839333|         -84.270018|            Kentucky|\n",
      "|          BD| 23.684994|  90.356331|          Bangladesh|            LA|         31.244823|         -92.145024|           Louisiana|\n",
      "+------------+----------+-----------+--------------------+--------------+------------------+-------------------+--------------------+\n",
      "only showing top 20 rows\n",
      "\n"
     ]
    }
   ],
   "source": [
    "readData.show()"
   ]
  },
  {
   "cell_type": "code",
   "execution_count": null,
   "id": "711e6028",
   "metadata": {},
   "outputs": [],
   "source": []
  }
 ],
 "metadata": {
  "kernelspec": {
   "display_name": "Python 3 (ipykernel)",
   "language": "python",
   "name": "python3"
  },
  "language_info": {
   "codemirror_mode": {
    "name": "ipython",
    "version": 3
   },
   "file_extension": ".py",
   "mimetype": "text/x-python",
   "name": "python",
   "nbconvert_exporter": "python",
   "pygments_lexer": "ipython3",
   "version": "3.8.8"
  },
  "widgets": {
   "application/vnd.jupyter.widget-state+json": {
    "state": {},
    "version_major": 2,
    "version_minor": 0
   }
  }
 },
 "nbformat": 4,
 "nbformat_minor": 5
}
